{
 "cells": [
  {
   "cell_type": "code",
   "execution_count": 6,
   "metadata": {},
   "outputs": [],
   "source": [
    "from src.QuadTree import *"
   ]
  },
  {
   "cell_type": "code",
   "execution_count": 7,
   "metadata": {},
   "outputs": [
    {
     "name": "stdout",
     "output_type": "stream",
     "text": [
      "FPS of video: 30.0\n"
     ]
    },
    {
     "data": {
      "text/plain": [
       "108"
      ]
     },
     "execution_count": 7,
     "metadata": {},
     "output_type": "execute_result"
    }
   ],
   "source": [
    "video_path = \"myvideo.webm\"\n",
    "frames = extractFrames(video_path)\n",
    "len(frames)"
   ]
  },
  {
   "cell_type": "code",
   "execution_count": 8,
   "metadata": {},
   "outputs": [],
   "source": [
    "MAX_DEPTH = 8\n",
    "DETAIL_THRESHOLD = 8\n",
    "SIZE_MULT = 1\n",
    "# videos = []\n",
    "quadtrees = []\n",
    "for frame in frames[:]:\n",
    "    image = frame.resize((frame.size[0] * SIZE_MULT, frame.size[1] * SIZE_MULT))\n",
    "    quadtree = QuadTree(image)\n",
    "    quadtrees.append(quadtree)\n",
    "\n",
    "    # create image with custom depth\n",
    "    # depth = 8\n",
    "    # image = quadtree.createImage(depth, show_lines=True)\n",
    "    # videos.append(image)"
   ]
  },
  {
   "cell_type": "code",
   "execution_count": 9,
   "metadata": {},
   "outputs": [],
   "source": [
    "with open(\"data/quadtrees.pkl\", \"wb\") as file:\n",
    "    pickle.dump(quadtrees,file=file)"
   ]
  },
  {
   "cell_type": "code",
   "execution_count": 10,
   "metadata": {},
   "outputs": [],
   "source": [
    "image = quadtrees[0].createImage(custom_depth=8, show_lines=True)"
   ]
  }
 ],
 "metadata": {
  "kernelspec": {
   "display_name": "Python 3",
   "language": "python",
   "name": "python3"
  },
  "language_info": {
   "codemirror_mode": {
    "name": "ipython",
    "version": 3
   },
   "file_extension": ".py",
   "mimetype": "text/x-python",
   "name": "python",
   "nbconvert_exporter": "python",
   "pygments_lexer": "ipython3",
   "version": "3.10.15"
  }
 },
 "nbformat": 4,
 "nbformat_minor": 2
}
